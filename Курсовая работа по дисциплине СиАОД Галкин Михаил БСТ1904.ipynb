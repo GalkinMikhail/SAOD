{
 "cells": [
  {
   "cell_type": "markdown",
   "metadata": {},
   "source": [
    "# Курсовая работа по дисциплине СиАОД\n",
    "Выполнил студент группы БСТ1904 Галкин Михаил"
   ]
  },
  {
   "cell_type": "markdown",
   "metadata": {},
   "source": [
    "# Задача 1 \n",
    "## Строки"
   ]
  },
  {
   "cell_type": "markdown",
   "metadata": {},
   "source": [
    "Даны две строки: s1 и s2 с одинаковым размером, проверьте, может ли\n",
    "некоторая перестановка строки s1 “победить” некоторую перестановку\n",
    "строки s2 или наоборот.\n",
    "Строка x может “победить” строку y (обе имеют размер n), если x[i]> = y\n",
    "[i] (в алфавитном порядке) для всех i от 0 до n-1."
   ]
  },
  {
   "cell_type": "code",
   "execution_count": 10,
   "metadata": {},
   "outputs": [
    {
     "name": "stdout",
     "output_type": "stream",
     "text": [
      "True\n",
      "False\n"
     ]
    }
   ],
   "source": [
    "def pobednayaStr(s1,s2):\n",
    "    s1 = sorted(s1)\n",
    "    s2 = sorted(s2)\n",
    "    count = 0\n",
    "    for i in range(len(s1)):\n",
    "        if s1[i]>s2[i]:\n",
    "            count += 1\n",
    "    if count == len(s1) or count == 0:\n",
    "        return True\n",
    "    else: \n",
    "        return False\n",
    "print(pobednayaStr('abc','xya'))\n",
    "print(pobednayaStr('abe','acd'))\n",
    "    "
   ]
  },
  {
   "cell_type": "markdown",
   "metadata": {},
   "source": [
    "# Задача 2\n",
    "## Строки"
   ]
  },
  {
   "cell_type": "markdown",
   "metadata": {},
   "source": [
    "Дана строка s, вернуть самую длинную полиндромную подстроку в s."
   ]
  },
  {
   "cell_type": "code",
   "execution_count": 29,
   "metadata": {},
   "outputs": [
    {
     "name": "stdout",
     "output_type": "stream",
     "text": [
      "aba\n",
      "bb\n"
     ]
    }
   ],
   "source": [
    "def longestPalindrome(s):\n",
    "    rez = \"\"\n",
    "    for i in range(len(s)):\n",
    "        for j in range(0, i):\n",
    "            part = s[j:i + 1] \n",
    "            if part == part[::-1]: \n",
    "                if len(part) >= len(rez): \n",
    "                    rez = part  \n",
    "    return rez\n",
    "\n",
    "print(longestPalindrome(\"babad\"))\n",
    "print(longestPalindrome(\"cbbd\"))"
   ]
  },
  {
   "cell_type": "markdown",
   "metadata": {},
   "source": [
    "# Задача 3\n",
    "## Строки"
   ]
  },
  {
   "cell_type": "markdown",
   "metadata": {},
   "source": [
    "Вернуть количество отдельных непустых подстрок текста, которые могут\n",
    "быть записаны как конкатенация некоторой строки с самой собой (т.е. она\n",
    "может быть записана, как a + a, где a - некоторая строка)."
   ]
  },
  {
   "cell_type": "code",
   "execution_count": 30,
   "metadata": {},
   "outputs": [
    {
     "name": "stdout",
     "output_type": "stream",
     "text": [
      "{'bcabca', 'cabcab', 'abcabc'}\n",
      "3\n"
     ]
    }
   ],
   "source": [
    "def concat(text):\n",
    "        pattern = set()\n",
    "        n = len(text)\n",
    "        def check(s):\n",
    "            l = len(s)\n",
    "            if l % 2 == 0 and s[:l//2] == s[l//2:]:\n",
    "                return True\n",
    "            return False\n",
    "        for i in range(n):\n",
    "            for j in range(i+1, n+1):\n",
    "                if check(text[i:j]):\n",
    "                    pattern.add(text[i:j])\n",
    "        print(pattern)\n",
    "        return len(pattern)\n",
    "print(concat(\"abcabcabc\"))"
   ]
  },
  {
   "cell_type": "markdown",
   "metadata": {},
   "source": [
    "# Задача 4 «Треугольник с максимальным периметром»"
   ]
  },
  {
   "cell_type": "markdown",
   "metadata": {},
   "source": [
    "Массив A состоит из целых положительных чисел длин отрезков. Составьте из трех отрезков такой треугольник, чтобы его периметр был максимально возможным. Если невозможно составить треугольник с положительной площадью функция возвращает 0."
   ]
  },
  {
   "cell_type": "code",
   "execution_count": 34,
   "metadata": {},
   "outputs": [
    {
     "name": "stdout",
     "output_type": "stream",
     "text": [
      "Введите длину массива5\n",
      "Введите значения массива\n",
      "4\n",
      "4\n",
      "4\n",
      "4\n",
      "4\n",
      "[4, 4, 4, 4, 4]\n",
      "Периметр= 12\n"
     ]
    }
   ],
   "source": [
    "def max_perimetr (a, b, c):\n",
    "    if (a+b)>c and (a+c)>b and (b+c)>a: \n",
    "        return int(a+b+c)\n",
    "    else:\n",
    "        return 0\n",
    "#\n",
    "length=int(input('Введите длину массива'))\n",
    "print('Введите значения массива')\n",
    "mas=[]\n",
    "for i in range(length):\n",
    "    mas.append(int(input())) \n",
    "mas=sorted(mas, reverse=True) \n",
    "print(mas)\n",
    "for i in range(len(mas)-2): # Циклично рассматриваем тройки значений смещаясь на 1 шаг\n",
    "    if max_perimetr(mas[i], mas[i+1], mas[i+2])>0:\n",
    "        print(\"Периметр=\", max_perimetr(mas[i], mas[i+1], mas[i+2]))\n",
    "        break"
   ]
  },
  {
   "cell_type": "markdown",
   "metadata": {},
   "source": [
    "# Задача 5 «Сортировка диагоналей в матрице»"
   ]
  },
  {
   "cell_type": "code",
   "execution_count": 39,
   "metadata": {},
   "outputs": [
    {
     "name": "stdout",
     "output_type": "stream",
     "text": [
      "mat:\n",
      "[3, 3, 1, 1]\n",
      "[2, 2, 1, 2]\n",
      "[1, 1, 1, 2]\n",
      "\n",
      "Sorted: \n",
      "[1, 1, 1, 1]\n",
      "[1, 2, 2, 2]\n",
      "[1, 2, 3, 3]\n",
      "\n",
      "mat:\n",
      "[11, 25, 66, 1, 69, 7]\n",
      "[23, 55, 17, 45, 15, 52]\n",
      "[75, 31, 36, 44, 58, 8]\n",
      "[22, 27, 33, 25, 68, 4]\n",
      "[84, 28, 14, 11, 5, 50]\n",
      "\n",
      "Sorted: \n",
      "[5, 17, 4, 1, 52, 7]\n",
      "[11, 11, 25, 45, 8, 69]\n",
      "[14, 23, 25, 44, 58, 15]\n",
      "[22, 27, 31, 36, 50, 66]\n",
      "[84, 28, 75, 33, 55, 68]\n"
     ]
    }
   ],
   "source": [
    "def sort(mat):\n",
    "    # Размер матрицы\n",
    "    m, n = len(mat), len(mat[0])\n",
    "    \n",
    "    # Пустой массив для диагоналей исходной матрицы\n",
    "    temp = [[] for i in range(m+n)]\n",
    "         \n",
    "    # Добавляем каждую диагональ в массив t\n",
    "    for i in range(m):\n",
    "        for j in range(n):\n",
    "            temp[i - j].append(mat[i][j])\n",
    "    \n",
    "    # Сортируем каждую диагональ (т.е линию) массива\n",
    "    for line in temp:\n",
    "        line.sort(reverse = True)\n",
    "    \n",
    "    # \"Линии\" в диагонали матрицы\n",
    "    for i in range(m):\n",
    "        for j in range(n):\n",
    "            # pop() удаляет последний элемент массива и возвращает его\n",
    "            mat[i][j] = temp[i-j].pop()\n",
    "    return mat\n",
    "\n",
    "\n",
    "\n",
    "arr = [[3,3,1,1], [2,2,1,2], [1,1,1,2]]\n",
    "print(\"mat:\")\n",
    "for l in arr:\n",
    "    print(l) \n",
    "print(\"\\nSorted: \")\n",
    "arr = sort(arr)\n",
    "for l in arr:\n",
    "    print(l)\n",
    "arr = [[11, 25, 66, 1, 69, 7], [23, 55, 17, 45, 15, 52], [75, 31, 36, 44, 58, 8], [22, 27, 33, 25, 68, 4], [84, 28, 14, 11, 5, 50]]\n",
    "print(\"\\nmat:\")\n",
    "for l in arr:\n",
    "    print(l)\n",
    "    \n",
    "print(\"\\nSorted: \")\n",
    "arr = sort(arr)\n",
    "for l in arr:\n",
    "    print(l)"
   ]
  },
  {
   "cell_type": "markdown",
   "metadata": {},
   "source": [
    "# Задача 6 «Объединение отрезков»"
   ]
  },
  {
   "cell_type": "markdown",
   "metadata": {},
   "source": [
    "Дан массив отрезков intervals, в котором intervals[i] = [starti, endi], некоторые\n",
    "отрезки могут пересекаться. Напишите функцию, которая объединяет все пересекающиеся отрезки\n",
    "в один и возвращает новый массив непересекающихся отрезков."
   ]
  },
  {
   "cell_type": "code",
   "execution_count": 37,
   "metadata": {},
   "outputs": [
    {
     "name": "stdout",
     "output_type": "stream",
     "text": [
      "[[1, 6], [8, 10], [15, 18]]\n"
     ]
    }
   ],
   "source": [
    "def merge_of_intervals(intervals):\n",
    "    rez = []\n",
    "    intervals.sort()\n",
    "    for interval in intervals:\n",
    "        if rez == [] or rez[-1][1] < interval[0]:  # если встречается конец отрезка \n",
    "            rez.append(interval)                      # который по значению меньше, чем начало следующего отрезка\n",
    "        else:                                            # и добавляем его в результат\n",
    "            rez[-1][1] = max(rez[-1][1], interval[1]) # иначе берем конец следующего отрезка и меняем текущий конец\n",
    "    return rez\n",
    "\n",
    "print(merge_of_intervals([[1,3],[2,6],[8,10],[15,18]]))"
   ]
  },
  {
   "cell_type": "markdown",
   "metadata": {},
   "source": [
    "# Задача 7 «Стопки монет»"
   ]
  },
  {
   "cell_type": "markdown",
   "metadata": {},
   "source": [
    "На столе стоят 3n стопок монет. Вы и ваши друзья Алиса и Боб забираете стопки монет по\n",
    "следующему алгоритму:\n",
    "1. Вы выбираете 3 стопки монет из оставшихся на столе.\n",
    "2. Алиса забирает себе стопку с максимальным количеством монет.\n",
    "3. Вы забираете одну из двух оставшихся стопок.\n",
    "4. Боб забирает последнюю стопку.\n",
    "5. Если еще остались стопки, то действия повторяются с первого шага.\n",
    "Дан массив целых положительных чисел piles. Напишите функцию, возвращающую максимальное\n",
    "число монет, которое вы можете получить."
   ]
  },
  {
   "cell_type": "code",
   "execution_count": 38,
   "metadata": {},
   "outputs": [
    {
     "name": "stdout",
     "output_type": "stream",
     "text": [
      "12\n",
      "4\n",
      "18\n"
     ]
    }
   ],
   "source": [
    "def coins(arr):\n",
    "    arr.sort()\n",
    "    res=0\n",
    "    n=len(arr)//3\n",
    "    for i in range (n, len(arr), 2):\n",
    "        res+=arr[i]\n",
    "    return res\n",
    "\n",
    "print(coins([2,4,5,6,7,8]))\n",
    "print(coins([2,4,5]))\n",
    "print(coins([9,8,7,6,5,1,2,3,4]))"
   ]
  },
  {
   "cell_type": "markdown",
   "metadata": {},
   "source": [
    "# Задача 8 «Шарики и стрелы»\n",
    "Некоторые сферические шарики распределены по двухмерному пространству. Для каждого\n",
    "шарика даны xкоординаты\n",
    "начала и конца его горизонтального диаметра. Так как пространство\n",
    "двумерно, то yкоординаты\n",
    "не имеют значения в данной задаче. Координата xstart всегда меньше\n",
    "xend.\n",
    "Стрелу можно выстрелить строго вертикально (вдоль yоси)\n",
    "из разных точек xоси.\n",
    "Шарик\n",
    "с координатами xstart и xend уничтожается стрелой, если она была выпущена из такой позиции\n",
    "x, что xstart ⩽ x ⩽ xend. Когда стрела выпущена, она летит в пространстве бесконечное время\n",
    "(уничтожая все шарики на пути).\n",
    "Дан массив points, где points[i] = [xstart, xend]. Напишите функцию, возвращающую\n",
    "минимальное количество стрел, которые нужно выпустить, чтобы уничтожить все шарики.\n",
    "Пример 1.1:\n",
    "Ввод: points = [[10,16],[2,8],[1,6],[7,12]]\n",
    "Вывод: 2\n",
    "Пример 1.2:\n",
    "Ввод: points = [[1,2],[3,4],[5,6],[7,8]]\n",
    "Вывод: 4\n",
    "Пример 1.3:\n",
    "Ввод: points = [[1,2],[2,3],[3,4],[4,5]]\n",
    "Вывод: 2\n",
    "Пример 1.4:\n",
    "Ввод: points = [[1,2]]\n",
    "Вывод: 1\n",
    "Пример 1.5:\n",
    "Ввод: points = [[2,3],[2,3]]\n",
    "Вывод: 1\n"
   ]
  },
  {
   "cell_type": "code",
   "execution_count": 42,
   "metadata": {},
   "outputs": [
    {
     "name": "stdout",
     "output_type": "stream",
     "text": [
      "1 Пример. Минимальное кол-во стрел= 2\n",
      "2 Пример. Минимальное кол-во стрел= 4\n",
      "3 Пример. Минимальное кол-во стрел= 2\n",
      "4 Пример. Минимальное кол-во стрел= 1\n",
      "5 Пример. Минимальное кол-во стрел= 1\n"
     ]
    }
   ],
   "source": [
    "def minArrows(points):\n",
    "        if len(points) == 0: # Если шаров нет, то количество стрел = 0\n",
    "            return 0\n",
    "        points.sort(key = lambda a:a[1]) # Сортируем список шаров по xStart\n",
    "        arrows = 1\n",
    "        curr = points[0]  # Берем первый шар из списка\n",
    "        for balloon in points: \n",
    "            if curr[1] < balloon[0]:   #проверяем шары после этого шара\n",
    "                curr = balloon # если xEnd < XStart\n",
    "                arrows += 1 # то появляется новый шар и добавляется количество стрел\n",
    "        return arrows\n",
    "    \n",
    "print(\"1 Пример. Минимальное кол-во стрел=\",minArrows([[10,16], [2,8], [1,6], [7,12]]))\n",
    "print(\"2 Пример. Минимальное кол-во стрел=\",minArrows([[1,2],[3,4],[5,6],[7,8]]))\n",
    "print(\"3 Пример. Минимальное кол-во стрел=\",minArrows([[1,2],[2,3],[3,4],[4,5]]))\n",
    "print(\"4 Пример. Минимальное кол-во стрел=\",minArrows([[1,2]]))\n",
    "print(\"5 Пример. Минимальное кол-во стрел=\",minArrows([[2,3],[2,3]]))\n"
   ]
  },
  {
   "cell_type": "markdown",
   "metadata": {},
   "source": [
    "# Задача 9 \"Максимальное число\"\n",
    "Дан массив неотрицательных целых чисел nums. Расположите их в таком порядке, чтобы\n",
    "вместе они образовали максимально возможное число."
   ]
  },
  {
   "cell_type": "code",
   "execution_count": 49,
   "metadata": {},
   "outputs": [
    {
     "name": "stdout",
     "output_type": "stream",
     "text": [
      "9534330\n"
     ]
    }
   ],
   "source": [
    "nums = [3, 30, 34, 5, 9] # Исходный массив\n",
    "max_len = len(str(max(nums))) #длина максимального элемента\n",
    "nums = [str(i) for i in nums] # Переводим все элементы массива в строковый тип\n",
    "def change_elem(s):                          # Функция повторяет последнюю цифру, пока число не станет по длине\n",
    "    return s + s[-1] * (max_len - len(s))    # как самое длинное из списка\n",
    "sort_list = sorted(nums, key=change_elem, reverse=True)\n",
    "print(''.join(sort_list))\n"
   ]
  },
  {
   "cell_type": "markdown",
   "metadata": {},
   "source": [
    "# Вывод:\n",
    "    В ходе курсовой работы мы научились решать 9 различных задач в языке программирования Python 3, направленных на освоение различных тем и компетенций в данном языке программирования."
   ]
  }
 ],
 "metadata": {
  "kernelspec": {
   "display_name": "Python 3",
   "language": "python",
   "name": "python3"
  },
  "language_info": {
   "codemirror_mode": {
    "name": "ipython",
    "version": 3
   },
   "file_extension": ".py",
   "mimetype": "text/x-python",
   "name": "python",
   "nbconvert_exporter": "python",
   "pygments_lexer": "ipython3",
   "version": "3.8.5"
  }
 },
 "nbformat": 4,
 "nbformat_minor": 4
}
